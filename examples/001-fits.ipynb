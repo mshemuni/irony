{
 "cells": [
  {
   "cell_type": "code",
   "execution_count": 1,
   "id": "96a0194c",
   "metadata": {},
   "outputs": [],
   "source": [
    "from piron import Fits"
   ]
  },
  {
   "cell_type": "code",
   "execution_count": 2,
   "id": "980a5cea",
   "metadata": {},
   "outputs": [
    {
     "data": {
      "text/plain": [
       "Fits(@: 139774341493184, file: [OBS_PATH]/data/V523_Cas-001V.fit)"
      ]
     },
     "execution_count": 2,
     "metadata": {},
     "output_type": "execute_result"
    }
   ],
   "source": [
    "fits1 = Fits.from_path(\"data/V523_Cas-001V.fit\")\n",
    "fits1"
   ]
  },
  {
   "cell_type": "code",
   "execution_count": 3,
   "id": "e373dcea",
   "metadata": {},
   "outputs": [
    {
     "data": {
      "text/plain": [
       "{'npix': 4194304.0,\n",
       " 'mean': 1270.0,\n",
       " 'stddev': 31.39,\n",
       " 'min': 1134.0,\n",
       " 'max': 7573.0}"
      ]
     },
     "execution_count": 3,
     "metadata": {},
     "output_type": "execute_result"
    }
   ],
   "source": [
    "fits1.imstat"
   ]
  },
  {
   "cell_type": "code",
   "execution_count": 4,
   "id": "d4917fb7",
   "metadata": {},
   "outputs": [
    {
     "data": {
      "text/plain": [
       "{'SIMPLE': True,\n",
       " 'BITPIX': 16,\n",
       " 'NAXIS': 2,\n",
       " 'NAXIS1': 2048,\n",
       " 'NAXIS2': 2048,\n",
       " 'BSCALE': 1.0,\n",
       " 'BZERO': 32768.0,\n",
       " 'DATE-OBS': '2013-09-13T21:31:48',\n",
       " 'EXPTIME': 15.0,\n",
       " 'EXPOSURE': 15.0,\n",
       " 'SET-TEMP': -20.0,\n",
       " 'CCD-TEMP': -19.99421325,\n",
       " 'XPIXSZ': 15.0,\n",
       " 'YPIXSZ': 15.0,\n",
       " 'XBINNING': 1,\n",
       " 'YBINNING': 1,\n",
       " 'XORGSUBF': 0,\n",
       " 'YORGSUBF': 0,\n",
       " 'READOUTM': 'Monochrome',\n",
       " 'FILTER': 'Bessel_V',\n",
       " 'IMAGETYP': 'Light Frame',\n",
       " 'JD': 2456549.397083333,\n",
       " 'FOCALLEN': 0.0,\n",
       " 'APTDIA': 0.0,\n",
       " 'APTAREA': 0.0,\n",
       " 'SWCREATE': 'MaxIm DL Version 5.15',\n",
       " 'SBSTDVER': 'SBFITSEXT Version 1.0',\n",
       " 'OBJECT': 'V523_Cas',\n",
       " 'TELESCOP': 'ATA50',\n",
       " 'INSTRUME': 'Apogee USB/Net',\n",
       " 'OBSERVER': 'YK-SF',\n",
       " 'NOTES': '',\n",
       " 'FLIPSTAT': 'Flip/Mirror',\n",
       " 'SWOWNER': 'atasam'}"
      ]
     },
     "execution_count": 4,
     "metadata": {},
     "output_type": "execute_result"
    }
   ],
   "source": [
    "fits1.header"
   ]
  },
  {
   "cell_type": "code",
   "execution_count": 5,
   "id": "11b5a32c",
   "metadata": {},
   "outputs": [
    {
     "data": {
      "text/plain": [
       "array([[1264., 1259., 1287., ..., 1233., 1253., 1253.],\n",
       "       [1273., 1263., 1287., ..., 1244., 1255., 1238.],\n",
       "       [1277., 1263., 1253., ..., 1265., 1257., 1254.],\n",
       "       ...,\n",
       "       [1266., 1291., 1268., ..., 1222., 1221., 1200.],\n",
       "       [1276., 1243., 1264., ..., 1243., 1221., 1210.],\n",
       "       [1267., 1291., 1303., ..., 1231., 1248., 1192.]])"
      ]
     },
     "execution_count": 5,
     "metadata": {},
     "output_type": "execute_result"
    }
   ],
   "source": [
    "fits1.data"
   ]
  },
  {
   "cell_type": "code",
   "execution_count": 6,
   "id": "c175b30e",
   "metadata": {},
   "outputs": [
    {
     "data": {
      "text/plain": [
       "<sep.Background at 0x7f1fbffb1c30>"
      ]
     },
     "execution_count": 6,
     "metadata": {},
     "output_type": "execute_result"
    }
   ],
   "source": [
    "fits1.background()"
   ]
  },
  {
   "cell_type": "code",
   "execution_count": 7,
   "id": "66787e20",
   "metadata": {},
   "outputs": [
    {
     "data": {
      "text/plain": [
       "array([[1273.0057373 , 1272.9329834 , 1272.86010742, ..., 1250.05639648,\n",
       "        1250.06713867, 1250.07678223],\n",
       "       [1272.98718262, 1272.91516113, 1272.84326172, ..., 1250.02563477,\n",
       "        1250.03540039, 1250.04431152],\n",
       "       [1272.96850586, 1272.8972168 , 1272.82592773, ..., 1249.99365234,\n",
       "        1250.00268555, 1250.01062012],\n",
       "       ...,\n",
       "       [1271.01159668, 1270.94836426, 1270.8840332 , ..., 1233.78662109,\n",
       "        1233.71520996, 1233.64477539],\n",
       "       [1270.99487305, 1270.9309082 , 1270.8659668 , ..., 1233.67504883,\n",
       "        1233.60339355, 1233.53271484],\n",
       "       [1270.97790527, 1270.91345215, 1270.84790039, ..., 1233.56298828,\n",
       "        1233.49121094, 1233.42041016]])"
      ]
     },
     "execution_count": 7,
     "metadata": {},
     "output_type": "execute_result"
    }
   ],
   "source": [
    "fits1.background(as_array=True)"
   ]
  },
  {
   "cell_type": "code",
   "execution_count": 8,
   "id": "63072e3a",
   "metadata": {},
   "outputs": [
    {
     "data": {
      "text/plain": [
       "{'SIMPLE': True,\n",
       " 'BITPIX': 16,\n",
       " 'NAXIS': 2,\n",
       " 'NAXIS1': 2048,\n",
       " 'NAXIS2': 2048,\n",
       " 'BSCALE': 1.0,\n",
       " 'BZERO': 32768.0,\n",
       " 'DATE-OBS': '2013-09-13T21:31:48',\n",
       " 'EXPTIME': 15.0,\n",
       " 'EXPOSURE': 15.0,\n",
       " 'SET-TEMP': -20.0,\n",
       " 'CCD-TEMP': -19.99421325,\n",
       " 'XPIXSZ': 15.0,\n",
       " 'YPIXSZ': 15.0,\n",
       " 'XBINNING': 1,\n",
       " 'YBINNING': 1,\n",
       " 'XORGSUBF': 0,\n",
       " 'YORGSUBF': 0,\n",
       " 'READOUTM': 'Monochrome',\n",
       " 'FILTER': 'Bessel_V',\n",
       " 'IMAGETYP': 'Light Frame',\n",
       " 'JD': 2456549.397083333,\n",
       " 'FOCALLEN': 0.0,\n",
       " 'APTDIA': 0.0,\n",
       " 'APTAREA': 0.0,\n",
       " 'SWCREATE': 'MaxIm DL Version 5.15',\n",
       " 'SBSTDVER': 'SBFITSEXT Version 1.0',\n",
       " 'OBJECT': 'V523_Cas',\n",
       " 'TELESCOP': 'ATA50',\n",
       " 'INSTRUME': 'Apogee USB/Net',\n",
       " 'OBSERVER': 'YK-SF',\n",
       " 'NOTES': '',\n",
       " 'FLIPSTAT': 'Flip/Mirror',\n",
       " 'SWOWNER': 'atasam',\n",
       " 'IRON': 'DATE-OBS'}"
      ]
     },
     "execution_count": 8,
     "metadata": {},
     "output_type": "execute_result"
    }
   ],
   "source": [
    "fits1.hedit(\"IRON\", \"DATE-OBS\")\n",
    "fits1.header"
   ]
  },
  {
   "cell_type": "code",
   "execution_count": 9,
   "id": "4199535d",
   "metadata": {},
   "outputs": [
    {
     "data": {
      "text/plain": [
       "{'SIMPLE': True,\n",
       " 'BITPIX': 16,\n",
       " 'NAXIS': 2,\n",
       " 'NAXIS1': 2048,\n",
       " 'NAXIS2': 2048,\n",
       " 'BSCALE': 1.0,\n",
       " 'BZERO': 32768.0,\n",
       " 'DATE-OBS': '2013-09-13T21:31:48',\n",
       " 'EXPTIME': 15.0,\n",
       " 'EXPOSURE': 15.0,\n",
       " 'SET-TEMP': -20.0,\n",
       " 'CCD-TEMP': -19.99421325,\n",
       " 'XPIXSZ': 15.0,\n",
       " 'YPIXSZ': 15.0,\n",
       " 'XBINNING': 1,\n",
       " 'YBINNING': 1,\n",
       " 'XORGSUBF': 0,\n",
       " 'YORGSUBF': 0,\n",
       " 'READOUTM': 'Monochrome',\n",
       " 'FILTER': 'Bessel_V',\n",
       " 'IMAGETYP': 'Light Frame',\n",
       " 'JD': 2456549.397083333,\n",
       " 'FOCALLEN': 0.0,\n",
       " 'APTDIA': 0.0,\n",
       " 'APTAREA': 0.0,\n",
       " 'SWCREATE': 'MaxIm DL Version 5.15',\n",
       " 'SBSTDVER': 'SBFITSEXT Version 1.0',\n",
       " 'OBJECT': 'V523_Cas',\n",
       " 'TELESCOP': 'ATA50',\n",
       " 'INSTRUME': 'Apogee USB/Net',\n",
       " 'OBSERVER': 'YK-SF',\n",
       " 'NOTES': '',\n",
       " 'FLIPSTAT': 'Flip/Mirror',\n",
       " 'SWOWNER': 'atasam',\n",
       " 'IRON': '2013-09-13T21:31:48'}"
      ]
     },
     "execution_count": 9,
     "metadata": {},
     "output_type": "execute_result"
    }
   ],
   "source": [
    "fits1.hedit(\"IRON\", \"DATE-OBS\", value_is_key=True)\n",
    "fits1.header"
   ]
  },
  {
   "cell_type": "code",
   "execution_count": 10,
   "id": "50ffc018",
   "metadata": {},
   "outputs": [
    {
     "data": {
      "text/plain": [
       "{'SIMPLE': True,\n",
       " 'BITPIX': 16,\n",
       " 'NAXIS': 2,\n",
       " 'NAXIS1': 2048,\n",
       " 'NAXIS2': 2048,\n",
       " 'BSCALE': 1.0,\n",
       " 'BZERO': 32768.0,\n",
       " 'DATE-OBS': '2013-09-13T21:31:48',\n",
       " 'EXPTIME': 15.0,\n",
       " 'EXPOSURE': 15.0,\n",
       " 'SET-TEMP': -20.0,\n",
       " 'CCD-TEMP': -19.99421325,\n",
       " 'XPIXSZ': 15.0,\n",
       " 'YPIXSZ': 15.0,\n",
       " 'XBINNING': 1,\n",
       " 'YBINNING': 1,\n",
       " 'XORGSUBF': 0,\n",
       " 'YORGSUBF': 0,\n",
       " 'READOUTM': 'Monochrome',\n",
       " 'FILTER': 'Bessel_V',\n",
       " 'IMAGETYP': 'Light Frame',\n",
       " 'JD': 2456549.397083333,\n",
       " 'FOCALLEN': 0.0,\n",
       " 'APTDIA': 0.0,\n",
       " 'APTAREA': 0.0,\n",
       " 'SWCREATE': 'MaxIm DL Version 5.15',\n",
       " 'SBSTDVER': 'SBFITSEXT Version 1.0',\n",
       " 'OBJECT': 'V523_Cas',\n",
       " 'TELESCOP': 'ATA50',\n",
       " 'INSTRUME': 'Apogee USB/Net',\n",
       " 'OBSERVER': 'YK-SF',\n",
       " 'NOTES': '',\n",
       " 'FLIPSTAT': 'Flip/Mirror',\n",
       " 'SWOWNER': 'atasam'}"
      ]
     },
     "execution_count": 10,
     "metadata": {},
     "output_type": "execute_result"
    }
   ],
   "source": [
    "fits1.hedit(\"IRON\", delete=True)\n",
    "fits1.header"
   ]
  },
  {
   "cell_type": "code",
   "execution_count": 11,
   "id": "d76ddb2f",
   "metadata": {},
   "outputs": [
    {
     "data": {
      "text/plain": [
       "Fits(@: 139774341523792, file: [OBS_PATH]/data/test.fit)"
      ]
     },
     "execution_count": 11,
     "metadata": {},
     "output_type": "execute_result"
    }
   ],
   "source": [
    "test = fits1.save_as(\"data/test.fit\")\n",
    "test"
   ]
  },
  {
   "cell_type": "code",
   "execution_count": 12,
   "id": "a435a31b",
   "metadata": {},
   "outputs": [],
   "source": [
    "!rm data/test.fit"
   ]
  },
  {
   "cell_type": "code",
   "execution_count": 13,
   "id": "715e18c1",
   "metadata": {},
   "outputs": [
    {
     "data": {
      "text/plain": [
       "array([[51264., 51259., 51287., ..., 51233., 51253., 51253.],\n",
       "       [51273., 51263., 51287., ..., 51244., 51255., 51238.],\n",
       "       [51277., 51263., 51253., ..., 51265., 51257., 51254.],\n",
       "       ...,\n",
       "       [51266., 51291., 51268., ..., 51222., 51221., 51200.],\n",
       "       [51276., 51243., 51264., ..., 51243., 51221., 51210.],\n",
       "       [51267., 51291., 51303., ..., 51231., 51248., 51192.]])"
      ]
     },
     "execution_count": 13,
     "metadata": {},
     "output_type": "execute_result"
    }
   ],
   "source": [
    "new_fits = fits1.imarith(50000, \"+\")\n",
    "new_fits.data"
   ]
  },
  {
   "cell_type": "code",
   "execution_count": 14,
   "id": "1c5c81d4",
   "metadata": {},
   "outputs": [
    {
     "data": {
      "text/plain": [
       "array([[1., 1., 1., ..., 1., 1., 1.],\n",
       "       [1., 1., 1., ..., 1., 1., 1.],\n",
       "       [1., 1., 1., ..., 1., 1., 1.],\n",
       "       ...,\n",
       "       [1., 1., 1., ..., 1., 1., 1.],\n",
       "       [1., 1., 1., ..., 1., 1., 1.],\n",
       "       [1., 1., 1., ..., 1., 1., 1.]])"
      ]
     },
     "execution_count": 14,
     "metadata": {},
     "output_type": "execute_result"
    }
   ],
   "source": [
    "new_fits = fits1.imarith(fits1, \"/\")\n",
    "new_fits.data"
   ]
  },
  {
   "cell_type": "code",
   "execution_count": 15,
   "id": "5b7d7925",
   "metadata": {},
   "outputs": [
    {
     "data": {
      "text/html": [
       "<div>\n",
       "<style scoped>\n",
       "    .dataframe tbody tr th:only-of-type {\n",
       "        vertical-align: middle;\n",
       "    }\n",
       "\n",
       "    .dataframe tbody tr th {\n",
       "        vertical-align: top;\n",
       "    }\n",
       "\n",
       "    .dataframe thead th {\n",
       "        text-align: right;\n",
       "    }\n",
       "</style>\n",
       "<table border=\"1\" class=\"dataframe\">\n",
       "  <thead>\n",
       "    <tr style=\"text-align: right;\">\n",
       "      <th></th>\n",
       "      <th>id</th>\n",
       "      <th>xcentroid</th>\n",
       "      <th>ycentroid</th>\n",
       "      <th>sharpness</th>\n",
       "      <th>roundness1</th>\n",
       "      <th>roundness2</th>\n",
       "      <th>npix</th>\n",
       "      <th>sky</th>\n",
       "      <th>peak</th>\n",
       "      <th>flux</th>\n",
       "      <th>mag</th>\n",
       "    </tr>\n",
       "  </thead>\n",
       "  <tbody>\n",
       "    <tr>\n",
       "      <th>0</th>\n",
       "      <td>1</td>\n",
       "      <td>701.706551</td>\n",
       "      <td>47.982494</td>\n",
       "      <td>0.966571</td>\n",
       "      <td>0.048266</td>\n",
       "      <td>-0.344416</td>\n",
       "      <td>25</td>\n",
       "      <td>0.0</td>\n",
       "      <td>145.0</td>\n",
       "      <td>1.480516</td>\n",
       "      <td>-0.426033</td>\n",
       "    </tr>\n",
       "    <tr>\n",
       "      <th>1</th>\n",
       "      <td>2</td>\n",
       "      <td>364.322070</td>\n",
       "      <td>87.202464</td>\n",
       "      <td>0.353876</td>\n",
       "      <td>-0.477778</td>\n",
       "      <td>0.064652</td>\n",
       "      <td>25</td>\n",
       "      <td>0.0</td>\n",
       "      <td>624.0</td>\n",
       "      <td>2.100134</td>\n",
       "      <td>-0.805618</td>\n",
       "    </tr>\n",
       "    <tr>\n",
       "      <th>2</th>\n",
       "      <td>3</td>\n",
       "      <td>360.375533</td>\n",
       "      <td>89.823552</td>\n",
       "      <td>0.305384</td>\n",
       "      <td>-0.567594</td>\n",
       "      <td>0.348625</td>\n",
       "      <td>25</td>\n",
       "      <td>0.0</td>\n",
       "      <td>790.0</td>\n",
       "      <td>2.223043</td>\n",
       "      <td>-0.867370</td>\n",
       "    </tr>\n",
       "    <tr>\n",
       "      <th>3</th>\n",
       "      <td>4</td>\n",
       "      <td>570.945189</td>\n",
       "      <td>133.992662</td>\n",
       "      <td>0.887009</td>\n",
       "      <td>0.419034</td>\n",
       "      <td>0.472373</td>\n",
       "      <td>25</td>\n",
       "      <td>0.0</td>\n",
       "      <td>99.0</td>\n",
       "      <td>1.135193</td>\n",
       "      <td>-0.137674</td>\n",
       "    </tr>\n",
       "    <tr>\n",
       "      <th>4</th>\n",
       "      <td>5</td>\n",
       "      <td>32.939945</td>\n",
       "      <td>135.594866</td>\n",
       "      <td>0.868224</td>\n",
       "      <td>0.066945</td>\n",
       "      <td>0.282762</td>\n",
       "      <td>25</td>\n",
       "      <td>0.0</td>\n",
       "      <td>292.0</td>\n",
       "      <td>2.858602</td>\n",
       "      <td>-1.140384</td>\n",
       "    </tr>\n",
       "    <tr>\n",
       "      <th>...</th>\n",
       "      <td>...</td>\n",
       "      <td>...</td>\n",
       "      <td>...</td>\n",
       "      <td>...</td>\n",
       "      <td>...</td>\n",
       "      <td>...</td>\n",
       "      <td>...</td>\n",
       "      <td>...</td>\n",
       "      <td>...</td>\n",
       "      <td>...</td>\n",
       "      <td>...</td>\n",
       "    </tr>\n",
       "    <tr>\n",
       "      <th>107</th>\n",
       "      <td>108</td>\n",
       "      <td>1412.546262</td>\n",
       "      <td>1835.370400</td>\n",
       "      <td>0.253999</td>\n",
       "      <td>-0.331285</td>\n",
       "      <td>-0.448894</td>\n",
       "      <td>25</td>\n",
       "      <td>0.0</td>\n",
       "      <td>35.0</td>\n",
       "      <td>1.047959</td>\n",
       "      <td>-0.050860</td>\n",
       "    </tr>\n",
       "    <tr>\n",
       "      <th>108</th>\n",
       "      <td>109</td>\n",
       "      <td>117.827320</td>\n",
       "      <td>1880.930056</td>\n",
       "      <td>0.620435</td>\n",
       "      <td>-0.640924</td>\n",
       "      <td>0.304404</td>\n",
       "      <td>25</td>\n",
       "      <td>0.0</td>\n",
       "      <td>92.0</td>\n",
       "      <td>1.165051</td>\n",
       "      <td>-0.165862</td>\n",
       "    </tr>\n",
       "    <tr>\n",
       "      <th>109</th>\n",
       "      <td>110</td>\n",
       "      <td>1206.793402</td>\n",
       "      <td>1890.040224</td>\n",
       "      <td>0.934086</td>\n",
       "      <td>-0.459977</td>\n",
       "      <td>-0.290583</td>\n",
       "      <td>25</td>\n",
       "      <td>0.0</td>\n",
       "      <td>158.0</td>\n",
       "      <td>1.657493</td>\n",
       "      <td>-0.548629</td>\n",
       "    </tr>\n",
       "    <tr>\n",
       "      <th>110</th>\n",
       "      <td>111</td>\n",
       "      <td>299.893088</td>\n",
       "      <td>1900.631940</td>\n",
       "      <td>0.859258</td>\n",
       "      <td>0.518292</td>\n",
       "      <td>-0.084963</td>\n",
       "      <td>25</td>\n",
       "      <td>0.0</td>\n",
       "      <td>110.0</td>\n",
       "      <td>1.067648</td>\n",
       "      <td>-0.071071</td>\n",
       "    </tr>\n",
       "    <tr>\n",
       "      <th>111</th>\n",
       "      <td>112</td>\n",
       "      <td>288.805685</td>\n",
       "      <td>1971.197110</td>\n",
       "      <td>0.997674</td>\n",
       "      <td>-0.605288</td>\n",
       "      <td>0.061149</td>\n",
       "      <td>25</td>\n",
       "      <td>0.0</td>\n",
       "      <td>132.0</td>\n",
       "      <td>1.258941</td>\n",
       "      <td>-0.250014</td>\n",
       "    </tr>\n",
       "  </tbody>\n",
       "</table>\n",
       "<p>112 rows × 11 columns</p>\n",
       "</div>"
      ],
      "text/plain": [
       "      id    xcentroid    ycentroid  sharpness  roundness1  roundness2  npix  \\\n",
       "0      1   701.706551    47.982494   0.966571    0.048266   -0.344416    25   \n",
       "1      2   364.322070    87.202464   0.353876   -0.477778    0.064652    25   \n",
       "2      3   360.375533    89.823552   0.305384   -0.567594    0.348625    25   \n",
       "3      4   570.945189   133.992662   0.887009    0.419034    0.472373    25   \n",
       "4      5    32.939945   135.594866   0.868224    0.066945    0.282762    25   \n",
       "..   ...          ...          ...        ...         ...         ...   ...   \n",
       "107  108  1412.546262  1835.370400   0.253999   -0.331285   -0.448894    25   \n",
       "108  109   117.827320  1880.930056   0.620435   -0.640924    0.304404    25   \n",
       "109  110  1206.793402  1890.040224   0.934086   -0.459977   -0.290583    25   \n",
       "110  111   299.893088  1900.631940   0.859258    0.518292   -0.084963    25   \n",
       "111  112   288.805685  1971.197110   0.997674   -0.605288    0.061149    25   \n",
       "\n",
       "     sky   peak      flux       mag  \n",
       "0    0.0  145.0  1.480516 -0.426033  \n",
       "1    0.0  624.0  2.100134 -0.805618  \n",
       "2    0.0  790.0  2.223043 -0.867370  \n",
       "3    0.0   99.0  1.135193 -0.137674  \n",
       "4    0.0  292.0  2.858602 -1.140384  \n",
       "..   ...    ...       ...       ...  \n",
       "107  0.0   35.0  1.047959 -0.050860  \n",
       "108  0.0   92.0  1.165051 -0.165862  \n",
       "109  0.0  158.0  1.657493 -0.548629  \n",
       "110  0.0  110.0  1.067648 -0.071071  \n",
       "111  0.0  132.0  1.258941 -0.250014  \n",
       "\n",
       "[112 rows x 11 columns]"
      ]
     },
     "execution_count": 15,
     "metadata": {},
     "output_type": "execute_result"
    }
   ],
   "source": [
    "fits1.daofind()"
   ]
  },
  {
   "cell_type": "code",
   "execution_count": null,
   "id": "5ec1f15e",
   "metadata": {},
   "outputs": [],
   "source": []
  }
 ],
 "metadata": {
  "kernelspec": {
   "display_name": "Python 3 (ipykernel)",
   "language": "python",
   "name": "python3"
  },
  "language_info": {
   "codemirror_mode": {
    "name": "ipython",
    "version": 3
   },
   "file_extension": ".py",
   "mimetype": "text/x-python",
   "name": "python",
   "nbconvert_exporter": "python",
   "pygments_lexer": "ipython3",
   "version": "3.10.4"
  }
 },
 "nbformat": 4,
 "nbformat_minor": 5
}
